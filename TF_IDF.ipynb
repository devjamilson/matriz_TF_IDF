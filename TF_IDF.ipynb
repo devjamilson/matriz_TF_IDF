{
  "nbformat": 4,
  "nbformat_minor": 0,
  "metadata": {
    "colab": {
      "provenance": []
    },
    "kernelspec": {
      "name": "python3",
      "display_name": "Python 3"
    },
    "language_info": {
      "name": "python"
    }
  },
  "cells": [
    {
      "cell_type": "markdown",
      "source": [
        "# **TF-IDF**\n",
        "\n",
        "Indicará o quão raro uma palavra é, levando em consideração a sua frequência dentro da frase, quando menos uma palavra aparece mais raro ela é."
      ],
      "metadata": {
        "id": "1cBL_ytiLLRq"
      }
    },
    {
      "cell_type": "code",
      "execution_count": 1,
      "metadata": {
        "id": "qOUPYKJBK9qF"
      },
      "outputs": [],
      "source": [
        "import pandas as pd\n",
        "import numpy as np\n",
        "\n",
        "from sklearn.feature_extraction.text import TfidfVectorizer\n",
        "\n",
        "\n",
        "text = [\n",
        "    \"o amigo do meu primo esta faculdade\",\n",
        "    \"a faculdade e perto\",\n",
        "    \"meu amigo é mais velho\",\n",
        "    \"saber matematica e importante\",\n",
        "    \"inglês é um idioma muito falado\"\n",
        "]\n"
      ]
    },
    {
      "cell_type": "code",
      "source": [
        "vect = TfidfVectorizer()\n",
        "vect.fit(text)"
      ],
      "metadata": {
        "colab": {
          "base_uri": "https://localhost:8080/"
        },
        "id": "IbjRJ3c-LFcW",
        "outputId": "cbe19ece-467d-403a-dbc8-f341096c65e9"
      },
      "execution_count": 2,
      "outputs": [
        {
          "output_type": "execute_result",
          "data": {
            "text/plain": [
              "TfidfVectorizer()"
            ]
          },
          "metadata": {},
          "execution_count": 2
        }
      ]
    },
    {
      "cell_type": "code",
      "source": [
        "vect.vocabulary_"
      ],
      "metadata": {
        "colab": {
          "base_uri": "https://localhost:8080/"
        },
        "id": "ifaq55osLG4T",
        "outputId": "c1dbd970-f444-4ae0-8d79-5af20b849124"
      },
      "execution_count": 3,
      "outputs": [
        {
          "output_type": "execute_result",
          "data": {
            "text/plain": [
              "{'amigo': 0,\n",
              " 'do': 1,\n",
              " 'meu': 10,\n",
              " 'primo': 13,\n",
              " 'esta': 2,\n",
              " 'faculdade': 3,\n",
              " 'perto': 12,\n",
              " 'mais': 8,\n",
              " 'velho': 16,\n",
              " 'saber': 14,\n",
              " 'matematica': 9,\n",
              " 'importante': 6,\n",
              " 'inglês': 7,\n",
              " 'um': 15,\n",
              " 'idioma': 5,\n",
              " 'muito': 11,\n",
              " 'falado': 4}"
            ]
          },
          "metadata": {},
          "execution_count": 3
        }
      ]
    },
    {
      "cell_type": "code",
      "source": [
        "vect.idf_"
      ],
      "metadata": {
        "colab": {
          "base_uri": "https://localhost:8080/"
        },
        "id": "LmX3oPx0LIlN",
        "outputId": "28e3070f-da5b-470a-d0ce-4d196cb0e5bf"
      },
      "execution_count": 4,
      "outputs": [
        {
          "output_type": "execute_result",
          "data": {
            "text/plain": [
              "array([1.69314718, 2.09861229, 2.09861229, 1.69314718, 2.09861229,\n",
              "       2.09861229, 2.09861229, 2.09861229, 2.09861229, 2.09861229,\n",
              "       1.69314718, 2.09861229, 2.09861229, 2.09861229, 2.09861229,\n",
              "       2.09861229, 2.09861229])"
            ]
          },
          "metadata": {},
          "execution_count": 4
        }
      ]
    },
    {
      "cell_type": "code",
      "source": [
        "menor_valor = min(vect.idf_)\n",
        "maior_valor = max(vect.idf_)\n",
        "\n",
        "print(f\"O menor valor equivale a {menor_valor} e o maior valor a {maior_valor}\")"
      ],
      "metadata": {
        "colab": {
          "base_uri": "https://localhost:8080/"
        },
        "id": "QO8-JvkdNKyt",
        "outputId": "ffb02bc9-6900-493b-ca5c-59ee3bf83854"
      },
      "execution_count": 8,
      "outputs": [
        {
          "output_type": "stream",
          "name": "stdout",
          "text": [
            "O menor valor equivale a 1.6931471805599454 e o maior valor a 2.09861228866811\n"
          ]
        }
      ]
    },
    {
      "cell_type": "markdown",
      "source": [
        "Ou seja, os itens ***mais raros*** possuem o valor **2.09861228866811** como referência.<br>\n",
        "E o ***menos raros*** possuem o valor **1.6931471805599454**"
      ],
      "metadata": {
        "id": "aEpRsA7iNywS"
      }
    },
    {
      "cell_type": "code",
      "source": [],
      "metadata": {
        "id": "pgygi56qNyTK"
      },
      "execution_count": null,
      "outputs": []
    }
  ]
}